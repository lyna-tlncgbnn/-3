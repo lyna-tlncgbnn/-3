{
 "cells": [
  {
   "cell_type": "code",
   "execution_count": 1,
   "id": "7c891561-727f-4461-89d1-27c3635b547b",
   "metadata": {
    "execution": {
     "iopub.execute_input": "2021-11-18T07:08:20.395311Z",
     "iopub.status.busy": "2021-11-18T07:08:20.394556Z",
     "iopub.status.idle": "2021-11-18T07:08:22.110814Z",
     "shell.execute_reply": "2021-11-18T07:08:22.110111Z",
     "shell.execute_reply.started": "2021-11-18T07:08:20.395275Z"
    }
   },
   "outputs": [],
   "source": [
    "import numpy as np\n",
    "import paddle\n",
    "import paddle.nn as nn\n",
    "import h5py\n",
    "import matplotlib_inline\n",
    "from paddle.io import DataLoader\n",
    "from sklearn.metrics import confusion_matrix, accuracy_score, f1_score\n",
    "from sklearn.model_selection import KFold\n",
    "import paddle.nn.functional as F\n",
    "import copy\n",
    "from Tsception_data_process import  PrepareData"
   ]
  },
  {
   "cell_type": "code",
   "execution_count": 2,
   "id": "28d32103-1240-432a-8820-4601c261d2e2",
   "metadata": {
    "execution": {
     "iopub.execute_input": "2021-11-18T07:08:22.190243Z",
     "iopub.status.busy": "2021-11-18T07:08:22.189946Z",
     "iopub.status.idle": "2021-11-18T07:08:22.201703Z",
     "shell.execute_reply": "2021-11-18T07:08:22.201139Z",
     "shell.execute_reply.started": "2021-11-18T07:08:22.190215Z"
    }
   },
   "outputs": [],
   "source": [
    "class MSBAM(nn.Layer):\n",
    "    def conv_block(self,in_chan,out_chan,kernel,step):\n",
    "        conv3d = nn.Sequential(\n",
    "            nn.Conv3D(in_channels=in_chan,out_channels=out_chan,kernel_size=kernel,stride=step),\n",
    "            # in 3d-conv kernel_size = (depth,height,width) stride=(depth,height,width)\n",
    "            nn.ELU(),\n",
    "            nn.BatchNorm3D(num_features=out_chan)          \n",
    "        )\n",
    "        return conv3d \n",
    "    \n",
    "    def __init__(self,num_classes):\n",
    "        super(MSBAM,self).__init__()\n",
    "        self.fe1_kernel = (128,9,5)\n",
    "        self.fe1_step = (64,9,4)\n",
    "        self.fe2_kernel = (64,9,5)\n",
    "        self.fe2_step = (32,9,4)\n",
    "        \n",
    "        self.conv3d_1 = conv_block(in_chan = 1,out_chan = 1,kernel = self.fe1_kernel, step = self.fe1_step)\n",
    "        self.conv3d_2 = conv_block(in_chan = 1,out_chan = 1,kernel = self.fe2_kernel, step = self.fe2_step)\n",
    "\n",
    "\n",
    "        self.linear_1 = nn.Sequential(\n",
    "                        nn.Dropout(0.7),\n",
    "                        nn.Linear(27,25)\n",
    "        )\n",
    "\n",
    "        self.linear_2 = nn.Sequential(\n",
    "                        nn.Dropout(0.7),\n",
    "                        nn.Linear(57,25)\n",
    "        )\n",
    "\n",
    "        self.linear_3 = nn.Sequential(\n",
    "                        nn.Dropout(0.7),\n",
    "                        nn.Linear(50,num_classes)\n",
    "                    #    nn.Softmax\n",
    "        )\n",
    "        #nn.Linear = [in_features, out_features, weight_attr=None, bias_attr=None, name=None]\n",
    "        #Linear层只接受一个Tensor作为输入，形状为 [batch_size,∗,in_features] ，其中 ∗ 表示可以为任意个额外的维度\n",
    "\n",
    "    def forward(self,input):\n",
    "        fe1 = self.conv3d_1(input) # N-C-D-W-H \n",
    "        fe1_L = paddle.flatten(fe1[:,:,:,:,0],start_axis = 1 , stop_axis = -1)    #N-C-L                  \n",
    "        fe1_R = paddle.flatten(fe1[:,:,:,:,1],start_axis = 1 , stop_axis = -1)            \n",
    "        fe1_C = fe1_L-fe1_R       #N-C-L  \n",
    "        fe1_concat = paddle.concat(x=[fe1_L,fe1_C,fe1_R],axis=-1)  #[start_axis:stop_axis]\n",
    "\n",
    "\n",
    "        fe2 = self.conv3d_2(input) # N-C-D-W-H \n",
    "        fe2_L = paddle.flatten(fe2[:,:,:,:,0],start_axis = 1 , stop_axis = -1)    #N-C-L                  \n",
    "        fe2_R = paddle.flatten(fe2[:,:,:,:,1],start_axis = 1 , stop_axis = -1)            \n",
    "        fe2_C = fe2_L-fe2_R       #N-C-L  \n",
    "        fe2_concat = paddle.concat(x=[fe2_L,fe2_C,fe2_R],axis=-1)  #[start_axis:stop_axis]\n",
    "\n",
    "        af_lin_1 = self.linear_1(fe1_concat)\n",
    "        af_lin_2 = self.linear_2(fe2_concat)\n",
    "\n",
    "        f_concat = paddle.concat(x=[af_lin_1,af_lin_2],axis = -1)\n",
    "\n",
    "        out = self.linear_3(f_concat)\n",
    "\n",
    "\n",
    "        return out\n",
    " \n",
    "\n",
    "\n"
   ]
  },
  {
   "cell_type": "code",
   "execution_count": 3,
   "id": "43161772-5fc8-49c4-bf8a-00bf750968cd",
   "metadata": {
    "execution": {
     "iopub.execute_input": "2021-11-18T07:08:29.584318Z",
     "iopub.status.busy": "2021-11-18T07:08:29.583538Z",
     "iopub.status.idle": "2021-11-18T07:08:33.738235Z",
     "shell.execute_reply": "2021-11-18T07:08:33.737670Z",
     "shell.execute_reply.started": "2021-11-18T07:08:29.584286Z"
    }
   },
   "outputs": [
    {
     "name": "stderr",
     "output_type": "stream",
     "text": [
      "W1118 15:08:29.587868  2313 device_context.cc:447] Please NOTE: device: 0, GPU Compute Capability: 7.0, Driver API Version: 10.1, Runtime API Version: 10.1\n",
      "W1118 15:08:29.592150  2313 device_context.cc:465] device: 0, cuDNN Version: 7.6.\n"
     ]
    },
    {
     "data": {
      "text/plain": [
       "[1, 1, 640, 9, 9]"
      ]
     },
     "execution_count": 3,
     "metadata": {},
     "output_type": "execute_result"
    }
   ],
   "source": [
    "def conv_block(in_chan,out_chan,kernel,step):\n",
    "    conv3d = nn.Sequential(\n",
    "        nn.Conv3D(in_channels=in_chan,out_channels=out_chan,kernel_size=kernel,stride=step),\n",
    "        # in 3d-conv kernel_size = (depth,height,width) stride=(depth,height,width)\n",
    "        nn.ELU(),\n",
    "        nn.BatchNorm3D(num_features=out_chan)           \n",
    "    )\n",
    "    return conv3d\n",
    "conv = conv_block(1,1,(128,9,5),(64,9,4))\n",
    "data = paddle.rand((1,1,640,9,9))\n",
    "data.shape"
   ]
  },
  {
   "cell_type": "code",
   "execution_count": 4,
   "id": "06c39b77-1cb0-4aad-ac56-7659179de73d",
   "metadata": {
    "execution": {
     "iopub.execute_input": "2021-11-18T07:08:38.210392Z",
     "iopub.status.busy": "2021-11-18T07:08:38.209606Z",
     "iopub.status.idle": "2021-11-18T07:08:38.216972Z",
     "shell.execute_reply": "2021-11-18T07:08:38.216338Z",
     "shell.execute_reply.started": "2021-11-18T07:08:38.210357Z"
    }
   },
   "outputs": [
    {
     "name": "stderr",
     "output_type": "stream",
     "text": [
      "/opt/conda/envs/python35-paddle120-env/lib/python3.7/site-packages/paddle/nn/layer/norm.py:653: UserWarning: When training, we now always track global mean and variance.\n",
      "  \"When training, we now always track global mean and variance.\")\n"
     ]
    },
    {
     "data": {
      "text/plain": [
       "[1, 1, 9, 1, 2]"
      ]
     },
     "execution_count": 4,
     "metadata": {},
     "output_type": "execute_result"
    }
   ],
   "source": [
    "out = conv(data)\n",
    "out.shape"
   ]
  },
  {
   "cell_type": "code",
   "execution_count": 10,
   "id": "61666f67-1906-4d9c-b34c-f22b9fd8f4dd",
   "metadata": {
    "execution": {
     "iopub.execute_input": "2021-11-17T13:27:42.987825Z",
     "iopub.status.busy": "2021-11-17T13:27:42.987183Z",
     "iopub.status.idle": "2021-11-17T13:27:42.991603Z",
     "shell.execute_reply": "2021-11-17T13:27:42.990983Z",
     "shell.execute_reply.started": "2021-11-17T13:27:42.987793Z"
    }
   },
   "outputs": [],
   "source": [
    "l = paddle.flatten(out[:,:,:,:,0],start_axis=2)"
   ]
  },
  {
   "cell_type": "code",
   "execution_count": 11,
   "id": "8732edb2-028e-4fb6-8aa5-0d07ba1abe52",
   "metadata": {
    "execution": {
     "iopub.execute_input": "2021-11-17T13:27:45.357391Z",
     "iopub.status.busy": "2021-11-17T13:27:45.357105Z",
     "iopub.status.idle": "2021-11-17T13:27:45.364974Z",
     "shell.execute_reply": "2021-11-17T13:27:45.364304Z",
     "shell.execute_reply.started": "2021-11-17T13:27:45.357366Z"
    }
   },
   "outputs": [
    {
     "data": {
      "text/plain": [
       "Tensor(shape=[1, 1, 27], dtype=float32, place=CPUPlace, stop_gradient=False,\n",
       "       [[[ 1.53160071,  0.50132990,  0.35360336, -0.40058994,  0.87277555,\n",
       "          -0.45413542,  0.15478778, -0.91567123,  0.11385107,  1.53160071,\n",
       "           0.50132990,  0.35360336, -0.40058994,  0.87277555, -0.45413542,\n",
       "           0.15478778, -0.91567123,  0.11385107,  1.53160071,  0.50132990,\n",
       "           0.35360336, -0.40058994,  0.87277555, -0.45413542,  0.15478778,\n",
       "          -0.91567123,  0.11385107]]])"
      ]
     },
     "execution_count": 11,
     "metadata": {},
     "output_type": "execute_result"
    }
   ],
   "source": [
    "paddle.concat([l,l,l],axis = -1)"
   ]
  },
  {
   "cell_type": "code",
   "execution_count": 43,
   "id": "da42eebc-4755-468a-8c2e-28ef3abe559a",
   "metadata": {
    "execution": {
     "iopub.execute_input": "2021-11-17T13:51:35.236637Z",
     "iopub.status.busy": "2021-11-17T13:51:35.236340Z",
     "iopub.status.idle": "2021-11-17T13:51:35.247187Z",
     "shell.execute_reply": "2021-11-17T13:51:35.246483Z",
     "shell.execute_reply.started": "2021-11-17T13:51:35.236612Z"
    }
   },
   "outputs": [],
   "source": [
    "model = MSBAM(2)"
   ]
  },
  {
   "cell_type": "code",
   "execution_count": 44,
   "id": "eab56717-10a5-4697-a9f8-94c66cf8120f",
   "metadata": {
    "execution": {
     "iopub.execute_input": "2021-11-17T13:51:36.158274Z",
     "iopub.status.busy": "2021-11-17T13:51:36.157208Z",
     "iopub.status.idle": "2021-11-17T13:51:36.166877Z",
     "shell.execute_reply": "2021-11-17T13:51:36.165998Z",
     "shell.execute_reply.started": "2021-11-17T13:51:36.158238Z"
    }
   },
   "outputs": [
    {
     "name": "stderr",
     "output_type": "stream",
     "text": [
      "/opt/conda/envs/python35-paddle120-env/lib/python3.7/site-packages/paddle/nn/layer/norm.py:653: UserWarning: When training, we now always track global mean and variance.\n",
      "  \"When training, we now always track global mean and variance.\")\n"
     ]
    }
   ],
   "source": [
    "with paddle.no_grad():\n",
    "    out = model(data)"
   ]
  },
  {
   "cell_type": "code",
   "execution_count": 45,
   "id": "6c28e6ea-16ba-45cf-8cc7-2d30be8a11ea",
   "metadata": {
    "execution": {
     "iopub.execute_input": "2021-11-17T13:51:38.826757Z",
     "iopub.status.busy": "2021-11-17T13:51:38.825671Z",
     "iopub.status.idle": "2021-11-17T13:51:38.832289Z",
     "shell.execute_reply": "2021-11-17T13:51:38.831730Z",
     "shell.execute_reply.started": "2021-11-17T13:51:38.826701Z"
    }
   },
   "outputs": [
    {
     "data": {
      "text/plain": [
       "Tensor(shape=[1, 2], dtype=float32, place=CPUPlace, stop_gradient=True,\n",
       "       [[-5.94783115, -1.06541467]])"
      ]
     },
     "execution_count": 45,
     "metadata": {},
     "output_type": "execute_result"
    }
   ],
   "source": [
    "out"
   ]
  },
  {
   "cell_type": "code",
   "execution_count": 6,
   "id": "b070c3df-bbe3-4163-9da7-40419aeb7737",
   "metadata": {
    "execution": {
     "iopub.execute_input": "2021-11-18T07:12:14.460029Z",
     "iopub.status.busy": "2021-11-18T07:12:14.459202Z",
     "iopub.status.idle": "2021-11-18T07:12:14.463379Z",
     "shell.execute_reply": "2021-11-18T07:12:14.462841Z",
     "shell.execute_reply.started": "2021-11-18T07:12:14.459991Z"
    }
   },
   "outputs": [],
   "source": [
    "a = np.random.rand(3,4,5)"
   ]
  },
  {
   "cell_type": "code",
   "execution_count": 10,
   "id": "19406f2e-135b-4edd-a08f-0e720f4da8f7",
   "metadata": {
    "execution": {
     "iopub.execute_input": "2021-11-18T07:12:41.991693Z",
     "iopub.status.busy": "2021-11-18T07:12:41.991146Z",
     "iopub.status.idle": "2021-11-18T07:12:41.996318Z",
     "shell.execute_reply": "2021-11-18T07:12:41.995636Z",
     "shell.execute_reply.started": "2021-11-18T07:12:41.991650Z"
    }
   },
   "outputs": [
    {
     "data": {
      "text/plain": [
       "(5, 4, 3)"
      ]
     },
     "execution_count": 10,
     "metadata": {},
     "output_type": "execute_result"
    }
   ],
   "source": [
    "a.swapaxes(-1,-3).shape"
   ]
  },
  {
   "cell_type": "code",
   "execution_count": 9,
   "id": "00ffb337-1c07-4116-ad95-b4ccb81f73d1",
   "metadata": {
    "execution": {
     "iopub.execute_input": "2021-11-18T07:12:38.317606Z",
     "iopub.status.busy": "2021-11-18T07:12:38.316750Z",
     "iopub.status.idle": "2021-11-18T07:12:38.322004Z",
     "shell.execute_reply": "2021-11-18T07:12:38.321213Z",
     "shell.execute_reply.started": "2021-11-18T07:12:38.317566Z"
    }
   },
   "outputs": [
    {
     "data": {
      "text/plain": [
       "(3, 4, 5)"
      ]
     },
     "execution_count": 9,
     "metadata": {},
     "output_type": "execute_result"
    }
   ],
   "source": [
    "a.shape"
   ]
  },
  {
   "cell_type": "code",
   "execution_count": null,
   "id": "53f9a8c4-d660-4758-bbe1-9368c1f646e4",
   "metadata": {},
   "outputs": [],
   "source": []
  }
 ],
 "metadata": {
  "kernelspec": {
   "display_name": "Python 3",
   "language": "python",
   "name": "py35-paddle1.2.0"
  },
  "language_info": {
   "codemirror_mode": {
    "name": "ipython",
    "version": 3
   },
   "file_extension": ".py",
   "mimetype": "text/x-python",
   "name": "python",
   "nbconvert_exporter": "python",
   "pygments_lexer": "ipython3",
   "version": "3.7.4"
  }
 },
 "nbformat": 4,
 "nbformat_minor": 5
}
